{
 "cells": [
  {
   "cell_type": "markdown",
   "metadata": {},
   "source": [
    "## PBL(2): Pest Classification - template code\n",
    "\n",
    "#### PBL(2) 프로젝트를 수행하기 위한 템플릿 코드입니다. \n",
    "\n",
    "1. https://agtechresearch.pythonanywhere.com/ 에 가입된 이메일과 비밀번호를 사용해주세요.\n",
    "\n",
    "    (회원가입을 하지 않았다면, 위 사이트에 접속하여 회원가입해 주세요: 비밀번호는 단순하게 만드는 것을 권장. 예: 1234)\n",
    "2. `username` 에 이메일 형식의 아이디를 기입해 주세요.\n",
    "3. `password` 에 비밀번호를 기입해 주세요."
   ]
  },
  {
   "cell_type": "code",
   "execution_count": 1,
   "metadata": {},
   "outputs": [],
   "source": [
    "project = \"pestclassification\"  # 수정하지 마세요\n",
    "username = \"abc@abc.co.kr\"  # 회원가입 시 사용한 이메일아이디 (예시. abc@hello.com)\n",
    "password = \"1234\"  # 비밀번호"
   ]
  },
  {
   "cell_type": "markdown",
   "metadata": {},
   "source": [
    "리더보드 제출을 위한 기본 설정: 아래 코드를 실행해주세요.\n"
   ]
  },
  {
   "cell_type": "code",
   "execution_count": 2,
   "metadata": {},
   "outputs": [],
   "source": [
    "import os\n",
    "import urllib.request\n",
    "\n",
    "if not os.path.exists(\"competition.py\"):\n",
    "    url = \"https://raw.githubusercontent.com/agtechresearch/LectureAlgorithm/main/competition/competition.py\"\n",
    "    filename = \"competition.py\"\n",
    "    urllib.request.urlretrieve(url, filename)"
   ]
  },
  {
   "cell_type": "markdown",
   "metadata": {},
   "source": [
    "### 데이터셋 다운로드\n",
    "\n",
    "아래 코드를 실행하여 데이터(dataset.zip)를 다운로드 받고, dataset 폴더에 압축을 해제합니다.\n",
    "\n",
    "    - 학습용 데이터셋: trainset\n",
    "    - problem set: problemset\n",
    "\n",
    "데이터 다운로드와 압축 해제가 성공적으로 진행되었다면, 2개의 폴더와 2개의 csv 파일이 dataset 폴더 내부에 생성됨\n",
    "\n",
    "* trainset 폴더: 학습용 데이터셋. 작물재배에 유해한 10종류의 해충 이미지들(aphids, armyworm, blisterbeetle, cicadellidae, cornborer, cricket, delicatula, limacodidae, miridae, viridis)\n",
    "* problemset 폴더: 학습된 모델에 의하여 예측을 수행하여야 할 데이터셋 -> 리더보드 제출을 위한 problem\n",
    "\n",
    "* problem.csv: 예측을 수행하여야 할 데이터셋 이미지들의 FilePath 포함\n",
    "* submission.csv: 리더보드 서버 제출을 위한 파일 형식\n"
   ]
  },
  {
   "cell_type": "code",
   "execution_count": null,
   "metadata": {},
   "outputs": [],
   "source": [
    "!wget https://github.com/agtechresearch/LectureAlgorithm/raw/main/pestclassification/dataset.zip\n",
    "\n",
    "!unzip dataset.zip -d dataset"
   ]
  },
  {
   "cell_type": "code",
   "execution_count": 3,
   "metadata": {},
   "outputs": [],
   "source": [
    "from IPython.display import Image\n",
    "import pandas as pd\n",
    "import torch\n",
    "import warnings\n",
    "\n",
    "# Data 경로 설정\n",
    "DATA_DIR = \"dataset\"\n",
    "\n",
    "# 경고 무시\n",
    "warnings.filterwarnings(\"ignore\")"
   ]
  },
  {
   "cell_type": "code",
   "execution_count": 4,
   "metadata": {},
   "outputs": [],
   "source": [
    "# 데이터 디렉토리 설정: trainset, problemset\n",
    "train_dir = os.path.join(DATA_DIR, 'trainset')\n",
    "problem_dir = os.path.join(DATA_DIR, 'problemset')"
   ]
  },
  {
   "cell_type": "markdown",
   "metadata": {},
   "source": [
    "### 학습용 데이터셋을 폴더로부터 읽어들이기 위해 ImageFolder 사용\n",
    "\n",
    " - 폴더에 위치한 이미지를 tensor 형식으로 변환\n",
    " - 폴더 내 위치한 이미지에 대하여 라벨링 기능 지원\n",
    " \n",
    " "
   ]
  },
  {
   "cell_type": "code",
   "execution_count": 5,
   "metadata": {},
   "outputs": [
    {
     "data": {
      "text/html": [
       "<img src=\"https://raw.githubusercontent.com/agtechresearch/LectureAlgorithm/main/img/folderstruct.png\" width=\"150\"/>"
      ],
      "text/plain": [
       "<IPython.core.display.Image object>"
      ]
     },
     "execution_count": 5,
     "metadata": {},
     "output_type": "execute_result"
    }
   ],
   "source": [
    "Image(url='https://raw.githubusercontent.com/agtechresearch/LectureAlgorithm/main/img/folderstruct.png', width=150)"
   ]
  },
  {
   "cell_type": "code",
   "execution_count": 6,
   "metadata": {},
   "outputs": [],
   "source": [
    "from torchvision import datasets, transforms\n",
    "from torch.utils.data import Dataset, DataLoader\n",
    "from PIL import Image\n",
    "\n",
    "# 이미지 전처리 정의\n",
    "train_transform = transforms.Compose(\n",
    "    [\n",
    "        transforms.Resize((32, 32)),  # 이미지 크기를 (32, 32)로 조정\n",
    "        transforms.Grayscale(num_output_channels=1),  # 흑백 이미지 load (채널 1개)\n",
    "        transforms.RandomHorizontalFlip(0.5),  # 50% 확률로 랜덤하게 이미지 좌우 반전\n",
    "        transforms.RandomRotation(90),  # 랜덤하게 이미지 회전\n",
    "        transforms.ToTensor(),  # 이미지를 PyTorch 텐서로 변환\n",
    "        #transforms.Normalize((0.5,),(0.5,)) # 이미지를 정규화\n",
    "    ]\n",
    ")\n",
    "\n",
    "# ImageFolder를 사용하여 학습용 데이터셋 trainset 생성\n",
    "trainset = datasets.ImageFolder(root=train_dir, transform=train_transform)\n",
    "\n",
    "# DataLoader 인스턴스 train_loader 생성\n",
    "# batch_size 의 경우 일반적으로는 16 혹은 32 로 설정\n",
    "# num_workers 는 대개 컴퓨터의 코어 수와 동일하게 설정\n",
    "train_loader = DataLoader(trainset, batch_size=16, shuffle=True, num_workers=2)"
   ]
  },
  {
   "cell_type": "code",
   "execution_count": 7,
   "metadata": {},
   "outputs": [
    {
     "name": "stdout",
     "output_type": "stream",
     "text": [
      "{'aphids': 0, 'armyworm': 1, 'blisterbeetle': 2, 'cicadellidae': 3, 'cornborer': 4, 'cricket': 5, 'delicatula': 6, 'limacodidae': 7, 'miridae': 8, 'viridis': 9}\n"
     ]
    }
   ],
   "source": [
    "# trainset의 클래스 정보 확인 (추후 학습된 모델에 의해 예측 결과가 숫자로 도출됨 -> 숫자 라벨을 클래스 이름으로 변환하여 사용하기 위함)\n",
    "print(trainset.class_to_idx)\n",
    "\n",
    "# 숫자 라벨을 클래스 이름으로 매핑하는 딕셔너리 생성\n",
    "idx_to_class = {v: k for k, v in trainset.class_to_idx.items()}"
   ]
  },
  {
   "cell_type": "code",
   "execution_count": 8,
   "metadata": {},
   "outputs": [
    {
     "data": {
      "text/plain": [
       "(torch.Size([16, 1, 32, 32]), torch.Size([16]))"
      ]
     },
     "execution_count": 8,
     "metadata": {},
     "output_type": "execute_result"
    }
   ],
   "source": [
    "# shape 확인 (batch_size, channel, height, width)\n",
    "x, y = next(iter(train_loader))\n",
    "x.shape, y.shape"
   ]
  },
  {
   "cell_type": "markdown",
   "metadata": {},
   "source": [
    "### 네트워크 모델 정의"
   ]
  },
  {
   "cell_type": "code",
   "execution_count": 9,
   "metadata": {},
   "outputs": [
    {
     "name": "stdout",
     "output_type": "stream",
     "text": [
      "cpu\n"
     ]
    }
   ],
   "source": [
    "import torch.nn as nn\n",
    "import torch.nn.functional as F\n",
    "import torch.optim as optim\n",
    "\n",
    "# Device 설정 (cuda:0 혹은 cpu)\n",
    "device = torch.device(\"cuda:0\" if torch.cuda.is_available() else \"cpu\")\n",
    "print(device)\n",
    "\n",
    "# 모델 정의\n",
    "class Net(nn.Module):\n",
    "    def __init__(self, num_classes):\n",
    "        super(Net, self).__init__()\n",
    "        self.fc1 = nn.Linear(32 * 32, 256)\n",
    "        self.fc2 = nn.Linear(256, 128)\n",
    "        self.fc3 = nn.Linear(128, 32)\n",
    "        # 마지막 출력층의 Neuron은 Class 개수로 설정\n",
    "        self.output = nn.Linear(32, num_classes)\n",
    "\n",
    "    def forward(self, x):\n",
    "        # (B, 1, 32, 32) -> (B, 32*32)\n",
    "        x = x.view(-1, 32 * 32)\n",
    "        x = F.relu(self.fc1(x))\n",
    "        x = F.relu(self.fc2(x))\n",
    "        x = F.relu(self.fc3(x))\n",
    "        x = self.output(x)\n",
    "        return x"
   ]
  },
  {
   "cell_type": "code",
   "execution_count": 10,
   "metadata": {},
   "outputs": [
    {
     "data": {
      "text/plain": [
       "Net(\n",
       "  (fc1): Linear(in_features=1024, out_features=256, bias=True)\n",
       "  (fc2): Linear(in_features=256, out_features=128, bias=True)\n",
       "  (fc3): Linear(in_features=128, out_features=32, bias=True)\n",
       "  (output): Linear(in_features=32, out_features=10, bias=True)\n",
       ")"
      ]
     },
     "execution_count": 10,
     "metadata": {},
     "output_type": "execute_result"
    }
   ],
   "source": [
    "# 모델 생성\n",
    "model = Net(num_classes=10)\n",
    "\n",
    "# 모델을 device 에 올림 (cuda:0 혹은 cpu)\n",
    "model.to(device)\n",
    "model"
   ]
  },
  {
   "cell_type": "markdown",
   "metadata": {},
   "source": [
    "### 손실함수 및 옵티마이저 정의/설정"
   ]
  },
  {
   "cell_type": "code",
   "execution_count": null,
   "metadata": {},
   "outputs": [],
   "source": [
    "# Cross Entropy Loss 정의\n",
    "loss_fn = nn.CrossEntropyLoss()\n",
    "\n",
    "# 옵티마이저 설정: model.paramters()와 learning_rate 설정\n",
    "optimizer = optim.Adam(model.parameters(), lr=0.005)"
   ]
  },
  {
   "cell_type": "markdown",
   "metadata": {},
   "source": [
    "### 모델 학습"
   ]
  },
  {
   "cell_type": "code",
   "execution_count": null,
   "metadata": {},
   "outputs": [],
   "source": [
    "# 최대 반복 횟수 정의\n",
    "num_epoch = 20\n",
    "\n",
    "# loss 기록하기 위한 list 정의\n",
    "losses = []\n",
    "accs = []\n",
    "\n",
    "# 훈련 모드 활성화\n",
    "model.train()\n",
    "\n",
    "for epoch in range(num_epoch):\n",
    "    # loss 초기화\n",
    "    running_loss = 0\n",
    "    # 정확도 계산\n",
    "    running_acc = 0\n",
    "\n",
    "    for x, y in train_loader:\n",
    "        # x, y 데이터를 device 에 올립니다. (cuda:0 혹은 cpu)\n",
    "        x = x.to(device)\n",
    "        y = y.to(device)\n",
    "\n",
    "        # 그라디언트 초기화 (초기화를 수행하지 않으면 계산된 그라디언트는 누적됩니다.)\n",
    "        optimizer.zero_grad()\n",
    "\n",
    "        # output 계산: model의 __call__() 함수 호출\n",
    "        output = model(x)\n",
    "\n",
    "        # 손실(loss) 계산 (예측 Prediction, 실제 Ground Truth)\n",
    "        loss = loss_fn(output, y)\n",
    "\n",
    "        # 미분 계산\n",
    "        loss.backward()\n",
    "\n",
    "        # 경사하강법 계산 및 적용\n",
    "        optimizer.step()\n",
    "\n",
    "        # 배치별 loss 를 누적합산 합니다.\n",
    "        running_loss += loss.item()\n",
    "        running_acc += output.argmax(dim=1).eq(y).sum().item() / len(y)\n",
    "\n",
    "    # 누적합산된 배치별 loss값을 배치의 개수로 나누어 Epoch당 loss를 산출합니다.\n",
    "    loss = running_loss / len(train_loader)\n",
    "    losses.append(loss)\n",
    "    acc = running_acc / len(train_loader)\n",
    "    accs.append(acc)\n",
    "\n",
    "    # 매 Epoch의 학습이 끝날때 훈련 결과를 출력합니다.\n",
    "    print(f\"{epoch:03d} loss = {loss:.5f}, accuracy = {acc:.5f}\")\n",
    "\n",
    "print(\"Training finished\")"
   ]
  },
  {
   "cell_type": "markdown",
   "metadata": {},
   "source": [
    "### problemset 이미지들을 불러오기"
   ]
  },
  {
   "cell_type": "code",
   "execution_count": null,
   "metadata": {},
   "outputs": [],
   "source": [
    "problem = pd.read_csv(os.path.join(DATA_DIR, \"problem.csv\"))\n",
    "problem.head()"
   ]
  },
  {
   "cell_type": "code",
   "execution_count": null,
   "metadata": {},
   "outputs": [],
   "source": [
    "class CustomImageDataset(Dataset):\n",
    "    def __init__(self, dataframe, transform=None):\n",
    "        self.dataframe = dataframe\n",
    "        self.transform = transform\n",
    "\n",
    "    def __len__(self):\n",
    "        return len(self.dataframe)\n",
    "\n",
    "    def __getitem__(self, idx):\n",
    "        img_path = self.dataframe.iloc[idx, 0]  # 'FilePath' 열에서 이미지 경로 가져오기\n",
    "        image = Image.open(img_path).convert(\"L\")  # 이미지를 흑백으로 로드\n",
    "\n",
    "        if self.transform:\n",
    "            image = self.transform(image)\n",
    "\n",
    "        return image\n",
    "\n",
    "\n",
    "# 이미지를 불러올 때 적용할 전처리 정의: resize, to tensor\n",
    "problem_transform = transforms.Compose(\n",
    "    [\n",
    "        transforms.Resize((32, 32)),  # 이미지 크기를 (28, 28)로 조정\n",
    "        transforms.ToTensor(),  # 이미지를 PyTorch 텐서로 변환\n",
    "    ]\n",
    ")\n",
    "\n",
    "# 커스텀 데이터셋 인스턴스 생성\n",
    "custom_dataset = CustomImageDataset(dataframe=problem, transform=problem_transform)\n",
    "\n",
    "# DataLoader 인스턴스 생성\n",
    "problem_loader = DataLoader(custom_dataset, batch_size=1, shuffle=False)"
   ]
  },
  {
   "cell_type": "markdown",
   "metadata": {},
   "source": [
    "## Problem set 문제에 대한 예측 및 리더보드 결과 제출"
   ]
  },
  {
   "cell_type": "code",
   "execution_count": null,
   "metadata": {},
   "outputs": [],
   "source": [
    "predictions = []\n",
    "\n",
    "# 검증모드 진입\n",
    "model.eval()\n",
    "\n",
    "with torch.no_grad():\n",
    "    # loss 초기화\n",
    "    running_loss = 0\n",
    "    # 정확도 계산\n",
    "    running_acc = 0\n",
    "    for x in problem_loader:\n",
    "        x = x.to(device)\n",
    "\n",
    "        y_hat = model(x)\n",
    "        label = y_hat.argmax(dim=1).detach().item()\n",
    "        predictions.append(label)"
   ]
  },
  {
   "cell_type": "code",
   "execution_count": null,
   "metadata": {},
   "outputs": [],
   "source": [
    "# 숫자 라벨을 클래스 이름으로 변환\n",
    "your_answer = [idx_to_class[l] for l in predictions]"
   ]
  },
  {
   "cell_type": "markdown",
   "metadata": {},
   "source": [
    "- 아래 제출 프로세스가 느리다고 중지 후 다시 코드를 실행하는 경우 제출 과정에서 패널티가 발생할 수 있습니다. (제출 횟수 이슈 발생 가능: 최대 100회까지 가능)\n",
    "- 제출에 성공할 경우, \"제출에 성공하였습니다\"의 메세지와 함께 제출 결과 accuracy 가 화면에 출력됩니다.\n",
    "- 제출결과는 또한 [대회 페이지(리더보드 서버)](https://agtechresearch.pythonanywhere.com/competitions/pestclassification/)의 `리더보드` 와 `제출` 탭에서 확인할 수 있습니다."
   ]
  },
  {
   "cell_type": "code",
   "execution_count": null,
   "metadata": {},
   "outputs": [],
   "source": [
    "import competition\n",
    "\n",
    "# 리더보드 서버 제출을 위한 파일 생성(예측 결과 업데이트)\n",
    "submission = pd.read_csv(os.path.join(DATA_DIR, \"submission.csv\"))\n",
    "submission[\"Label\"] = your_answer\n",
    "\n",
    "# 예측 결과 화면에 출력 후 제출\n",
    "display(submission)\n",
    "competition.submit(project, username, password, submission)"
   ]
  }
 ],
 "metadata": {
  "kernelspec": {
   "display_name": "dl",
   "language": "python",
   "name": "python3"
  },
  "language_info": {
   "codemirror_mode": {
    "name": "ipython",
    "version": 3
   },
   "file_extension": ".py",
   "mimetype": "text/x-python",
   "name": "python",
   "nbconvert_exporter": "python",
   "pygments_lexer": "ipython3",
   "version": "3.12.3"
  }
 },
 "nbformat": 4,
 "nbformat_minor": 2
}
