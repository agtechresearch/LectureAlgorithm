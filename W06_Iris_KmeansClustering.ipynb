{
 "cells": [
  {
   "attachments": {},
   "cell_type": "markdown",
   "metadata": {},
   "source": [
    "# 붓꽃(Iris) 데이터셋으로 붓꽃품종 클러스터링\n",
    "\n",
    "## 분류/비지도학습 - K-Means clustering\n",
    "\n",
    "\n",
    "붓꽃 데이터셋\n",
    "\n",
    " - 현대 통계학의 아버지, Roland Fisher 가 살아생전 수집한 150개의 붓꽃 데이터\n",
    " - 꽃받침 길이(Sepal length), 꽃받침 너비(Sepal width), 꽃잎 길이(Petal length), 꽃잎 너비(Petal width)에 의한 품종분류\n",
    " \n",
    " ![](https://cdn-images-1.medium.com/freeze/max/1000/1*gwmXliaxIBkY4NQBhoe9JQ.png)\n",
    "\n",
    "\n",
    " - 붓꽃 데이터셋\n",
    "     - https://raw.githubusercontent.com/agtechresearch/LectureAlgorithm/main/csv/iris_no_species.csv\n",
    "\n",
    "### 붓꽃 데이터셋에서 \"꽃잎의 길이\"와 \"너비\"만을 가지고 품종 분류를 해보자 (비지도학습, 분류, K-means clustering)\n"
   ]
  },
  {
   "cell_type": "code",
   "execution_count": 2,
   "metadata": {},
   "outputs": [],
   "source": [
    "## 필요한 라이브러리 import\n",
    "import pandas as pd\n",
    "from sklearn.cluster import KMeans #사이킷런에 구현되어 있는 KMeans 함수 import\n",
    "import matplotlib.pyplot as plt"
   ]
  },
  {
   "cell_type": "markdown",
   "metadata": {},
   "source": [
    "### 붓꽃 데이터를 읽어온 후, 데이터 전처리(꽃잎의 길이와 너비)"
   ]
  },
  {
   "cell_type": "code",
   "execution_count": 3,
   "metadata": {},
   "outputs": [
    {
     "data": {
      "text/html": [
       "<div>\n",
       "<style scoped>\n",
       "    .dataframe tbody tr th:only-of-type {\n",
       "        vertical-align: middle;\n",
       "    }\n",
       "\n",
       "    .dataframe tbody tr th {\n",
       "        vertical-align: top;\n",
       "    }\n",
       "\n",
       "    .dataframe thead th {\n",
       "        text-align: right;\n",
       "    }\n",
       "</style>\n",
       "<table border=\"1\" class=\"dataframe\">\n",
       "  <thead>\n",
       "    <tr style=\"text-align: right;\">\n",
       "      <th></th>\n",
       "      <th>PetalLengthCm</th>\n",
       "      <th>PetalWidthCm</th>\n",
       "    </tr>\n",
       "  </thead>\n",
       "  <tbody>\n",
       "    <tr>\n",
       "      <th>0</th>\n",
       "      <td>1.4</td>\n",
       "      <td>0.2</td>\n",
       "    </tr>\n",
       "    <tr>\n",
       "      <th>1</th>\n",
       "      <td>1.4</td>\n",
       "      <td>0.2</td>\n",
       "    </tr>\n",
       "    <tr>\n",
       "      <th>2</th>\n",
       "      <td>1.3</td>\n",
       "      <td>0.2</td>\n",
       "    </tr>\n",
       "    <tr>\n",
       "      <th>3</th>\n",
       "      <td>1.5</td>\n",
       "      <td>0.2</td>\n",
       "    </tr>\n",
       "    <tr>\n",
       "      <th>4</th>\n",
       "      <td>1.4</td>\n",
       "      <td>0.2</td>\n",
       "    </tr>\n",
       "    <tr>\n",
       "      <th>...</th>\n",
       "      <td>...</td>\n",
       "      <td>...</td>\n",
       "    </tr>\n",
       "    <tr>\n",
       "      <th>145</th>\n",
       "      <td>5.2</td>\n",
       "      <td>2.3</td>\n",
       "    </tr>\n",
       "    <tr>\n",
       "      <th>146</th>\n",
       "      <td>5.0</td>\n",
       "      <td>1.9</td>\n",
       "    </tr>\n",
       "    <tr>\n",
       "      <th>147</th>\n",
       "      <td>5.2</td>\n",
       "      <td>2.0</td>\n",
       "    </tr>\n",
       "    <tr>\n",
       "      <th>148</th>\n",
       "      <td>5.4</td>\n",
       "      <td>2.3</td>\n",
       "    </tr>\n",
       "    <tr>\n",
       "      <th>149</th>\n",
       "      <td>5.1</td>\n",
       "      <td>1.8</td>\n",
       "    </tr>\n",
       "  </tbody>\n",
       "</table>\n",
       "<p>150 rows × 2 columns</p>\n",
       "</div>"
      ],
      "text/plain": [
       "     PetalLengthCm  PetalWidthCm\n",
       "0              1.4           0.2\n",
       "1              1.4           0.2\n",
       "2              1.3           0.2\n",
       "3              1.5           0.2\n",
       "4              1.4           0.2\n",
       "..             ...           ...\n",
       "145            5.2           2.3\n",
       "146            5.0           1.9\n",
       "147            5.2           2.0\n",
       "148            5.4           2.3\n",
       "149            5.1           1.8\n",
       "\n",
       "[150 rows x 2 columns]"
      ]
     },
     "execution_count": 3,
     "metadata": {},
     "output_type": "execute_result"
    }
   ],
   "source": [
    "## Iris 데이터 읽어오기\n",
    "df = pd.read_csv('https://raw.githubusercontent.com/agtechresearch/LectureAlgorithm/main/csv/iris_no_species.csv')\n",
    "\n",
    "## 데이터 전처리: Petal length 와 Petal width 만 가지고 클러스터링 (그 외 데이터 삭제)\n",
    "x_data = df.drop(['SepalLengthCm', 'SepalWidthCm'], axis=1)\n",
    "\n",
    "x_data"
   ]
  },
  {
   "cell_type": "markdown",
   "metadata": {},
   "source": [
    "### Scatter plot 으로 데이터 가시화 해보기"
   ]
  },
  {
   "cell_type": "code",
   "execution_count": 4,
   "metadata": {},
   "outputs": [
    {
     "data": {
      "image/png": "[encoded data removed]",
      "text/plain": [
       "<Figure size 432x288 with 1 Axes>"
      ]
     },
     "metadata": {
      "needs_background": "light"
     },
     "output_type": "display_data"
    }
   ],
   "source": [
    "## Scatter plot 으로 데이터 가시화해보기(Visualize)\n",
    "plt.scatter(x_data['PetalLengthCm'], x_data['PetalWidthCm'])\n",
    "plt.title('Iris')\n",
    "plt.xlabel('Petal length (cm)')\n",
    "plt.ylabel('Petal Width (cm)')\n",
    "plt.show()"
   ]
  },
  {
   "cell_type": "markdown",
   "metadata": {},
   "source": [
    "### K-means 에 의한 클러스터링 수행"
   ]
  },
  {
   "cell_type": "code",
   "execution_count": 5,
   "metadata": {},
   "outputs": [
    {
     "data": {
      "text/plain": [
       "KMeans(n_clusters=3)"
      ]
     },
     "execution_count": 5,
     "metadata": {},
     "output_type": "execute_result"
    }
   ],
   "source": [
    "## 클러스터링 수행 by K-means clustering\n",
    "model = KMeans(n_clusters=3) \n",
    "model.fit(x_data)"
   ]
  },
  {
   "cell_type": "markdown",
   "metadata": {},
   "source": [
    "### K-means 클러스터링 결과 그림 그려보기"
   ]
  },
  {
   "cell_type": "code",
   "execution_count": 6,
   "metadata": {},
   "outputs": [
    {
     "data": {
      "image/png": "[encoded data removed]",
      "text/plain": [
       "<Figure size 432x288 with 1 Axes>"
      ]
     },
     "metadata": {
      "needs_background": "light"
     },
     "output_type": "display_data"
    }
   ],
   "source": [
    "plt.scatter(x_data['PetalLengthCm'], x_data['PetalWidthCm'], c=model.labels_)\n",
    "plt.title('Iris clustering by K-means')\n",
    "plt.xlabel('Petal Length (cm)')\n",
    "plt.ylabel('Petal Width (cm)')\n",
    "plt.show()"
   ]
  },
  {
   "cell_type": "markdown",
   "metadata": {},
   "source": [
    "### 엘보법(Elbow method)을 이용한 k 개수 비교"
   ]
  },
  {
   "cell_type": "code",
   "execution_count": 7,
   "metadata": {},
   "outputs": [
    {
     "data": {
      "image/png": "[encoded data removed]",
      "text/plain": [
       "<Figure size 432x288 with 1 Axes>"
      ]
     },
     "metadata": {
      "needs_background": "light"
     },
     "output_type": "display_data"
    }
   ],
   "source": [
    "# 적절한 K 값을 구하기 위한 elbow method - WCSS 출력\n",
    "inertias = []\n",
    "\n",
    "for n_clusters in range(1, 10):\n",
    "    model = KMeans(n_clusters=n_clusters)\n",
    "    model.fit(x_data)\n",
    "    inertias.append(model.inertia_)\n",
    "    \n",
    "plt.plot(range(1, 10), inertias, '-o')\n",
    "plt.xlabel('Num of clusters')\n",
    "plt.ylabel('Within-Cluster Sum of Squares (WCSS)')\n",
    "plt.show()"
   ]
  }
 ],
 "metadata": {
  "kernelspec": {
   "display_name": "Python 3",
   "language": "python",
   "name": "python3"
  },
  "language_info": {
   "codemirror_mode": {
    "name": "ipython",
    "version": 3
   },
   "file_extension": ".py",
   "mimetype": "text/x-python",
   "name": "python",
   "nbconvert_exporter": "python",
   "pygments_lexer": "ipython3",
   "version": "3.8.3"
  }
 },
 "nbformat": 4,
 "nbformat_minor": 4
}
